{
  "nbformat": 4,
  "nbformat_minor": 0,
  "metadata": {
    "colab": {
      "name": "Sentiment_analysis ",
      "provenance": [],
      "mount_file_id": "1B1FlZqpFPpgwH1yGQfCe-z3CAfVGRaGp",
      "authorship_tag": "ABX9TyOemzAVGRSFC0zJbbaZqtm7",
      "include_colab_link": true
    },
    "kernelspec": {
      "name": "python3",
      "display_name": "Python 3"
    },
    "language_info": {
      "name": "python"
    }
  },
  "cells": [
    {
      "cell_type": "markdown",
      "metadata": {
        "id": "view-in-github",
        "colab_type": "text"
      },
      "source": [
        "<a href=\"https://colab.research.google.com/github/sahoodib/zoo-repository-hackNJIT/blob/Sentiment_Analysis/Sentiment_analysis.ipynb\" target=\"_parent\"><img src=\"https://colab.research.google.com/assets/colab-badge.svg\" alt=\"Open In Colab\"/></a>"
      ]
    },
    {
      "cell_type": "code",
      "metadata": {
        "id": "0A3-6nB2Y_-s",
        "colab": {
          "base_uri": "https://localhost:8080/"
        },
        "outputId": "7de1813c-e26f-4107-c1f0-a35ed8026446"
      },
      "source": [
        "pip install praw"
      ],
      "execution_count": null,
      "outputs": [
        {
          "output_type": "stream",
          "name": "stdout",
          "text": [
            "Collecting praw\n",
            "  Downloading praw-7.5.0-py3-none-any.whl (176 kB)\n",
            "\u001b[?25l\r\u001b[K     |█▉                              | 10 kB 26.8 MB/s eta 0:00:01\r\u001b[K     |███▊                            | 20 kB 33.5 MB/s eta 0:00:01\r\u001b[K     |█████▋                          | 30 kB 37.2 MB/s eta 0:00:01\r\u001b[K     |███████▍                        | 40 kB 38.3 MB/s eta 0:00:01\r\u001b[K     |█████████▎                      | 51 kB 39.4 MB/s eta 0:00:01\r\u001b[K     |███████████▏                    | 61 kB 40.3 MB/s eta 0:00:01\r\u001b[K     |█████████████                   | 71 kB 31.1 MB/s eta 0:00:01\r\u001b[K     |██████████████▉                 | 81 kB 31.8 MB/s eta 0:00:01\r\u001b[K     |████████████████▊               | 92 kB 32.7 MB/s eta 0:00:01\r\u001b[K     |██████████████████▋             | 102 kB 34.0 MB/s eta 0:00:01\r\u001b[K     |████████████████████▍           | 112 kB 34.0 MB/s eta 0:00:01\r\u001b[K     |██████████████████████▎         | 122 kB 34.0 MB/s eta 0:00:01\r\u001b[K     |████████████████████████▏       | 133 kB 34.0 MB/s eta 0:00:01\r\u001b[K     |██████████████████████████      | 143 kB 34.0 MB/s eta 0:00:01\r\u001b[K     |███████████████████████████▉    | 153 kB 34.0 MB/s eta 0:00:01\r\u001b[K     |█████████████████████████████▊  | 163 kB 34.0 MB/s eta 0:00:01\r\u001b[K     |███████████████████████████████▌| 174 kB 34.0 MB/s eta 0:00:01\r\u001b[K     |████████████████████████████████| 176 kB 34.0 MB/s \n",
            "\u001b[?25hCollecting prawcore<3,>=2.1\n",
            "  Downloading prawcore-2.3.0-py3-none-any.whl (16 kB)\n",
            "Collecting websocket-client>=0.54.0\n",
            "  Downloading websocket_client-1.2.1-py2.py3-none-any.whl (52 kB)\n",
            "\u001b[K     |████████████████████████████████| 52 kB 1.6 MB/s \n",
            "\u001b[?25hCollecting update-checker>=0.18\n",
            "  Downloading update_checker-0.18.0-py3-none-any.whl (7.0 kB)\n",
            "Requirement already satisfied: requests<3.0,>=2.6.0 in /usr/local/lib/python3.7/dist-packages (from prawcore<3,>=2.1->praw) (2.23.0)\n",
            "Requirement already satisfied: certifi>=2017.4.17 in /usr/local/lib/python3.7/dist-packages (from requests<3.0,>=2.6.0->prawcore<3,>=2.1->praw) (2021.10.8)\n",
            "Requirement already satisfied: idna<3,>=2.5 in /usr/local/lib/python3.7/dist-packages (from requests<3.0,>=2.6.0->prawcore<3,>=2.1->praw) (2.10)\n",
            "Requirement already satisfied: urllib3!=1.25.0,!=1.25.1,<1.26,>=1.21.1 in /usr/local/lib/python3.7/dist-packages (from requests<3.0,>=2.6.0->prawcore<3,>=2.1->praw) (1.24.3)\n",
            "Requirement already satisfied: chardet<4,>=3.0.2 in /usr/local/lib/python3.7/dist-packages (from requests<3.0,>=2.6.0->prawcore<3,>=2.1->praw) (3.0.4)\n",
            "Installing collected packages: websocket-client, update-checker, prawcore, praw\n",
            "Successfully installed praw-7.5.0 prawcore-2.3.0 update-checker-0.18.0 websocket-client-1.2.1\n"
          ]
        }
      ]
    },
    {
      "cell_type": "code",
      "metadata": {
        "id": "xScj6lXBBjUw"
      },
      "source": [
        "import praw \n",
        "import pandas as pd\n",
        "import numpy as np\n",
        "from praw.models import MoreComments\n",
        "import pprint\n",
        "import matplotlib.pyplot as plt\n",
        "import seaborn as sns\n",
        "import decimal\n",
        "from nltk.corpus import stopwords\n",
        "from textblob import Word\n",
        "from sklearn.preprocessing import LabelEncoder\n",
        "from collections import Counter\n",
        "import wordcloud\n",
        "from sklearn.metrics import classification_report,confusion_matrix,accuracy_score\n",
        "from keras.models import Sequential\n",
        "from keras.preprocessing.text import Tokenizer\n",
        "from keras.preprocessing.sequence import pad_sequences\n",
        "from keras.layers import Dense, Embedding, LSTM, SpatialDropout1D\n",
        "from sklearn.model_selection import train_test_split \n",
        "import matplotlib.pyplot as plt\n",
        "import re"
      ],
      "execution_count": null,
      "outputs": []
    },
    {
      "cell_type": "code",
      "metadata": {
        "id": "8Sw8GzjWB9hS"
      },
      "source": [
        "user_agent = \"Scraper 1.0 by /u/UniqueVictory516\"\n",
        "reddit = praw.Reddit(\n",
        "    client_id=\"Q3XXUTRf_U2yNiRkiBfAng\",\n",
        "    client_secret=\"KauRdBF4hYz_iJfUI2MUZEWNrTugaA\",\n",
        "    #password=\"1guiwevlfo00esyy\",\n",
        "    #requestor_kwargs={\"session\": session},  # pass Session\n",
        "    user_agent=user_agent,\n",
        "    check_for_async = False\n",
        "    #username=\"fakebot3\",\n",
        ")"
      ],
      "execution_count": null,
      "outputs": []
    },
    {
      "cell_type": "code",
      "metadata": {
        "colab": {
          "base_uri": "https://localhost:8080/"
        },
        "id": "xxXLo-mUTcRV",
        "outputId": "93df131e-25db-4aaf-f6e0-236455a9a38d"
      },
      "source": [
        "headlines = set()\n",
        "hot = reddit.subreddit('Zoo+Employees+Veterinary+Restaurant').hot(limit=None)\n",
        "for submission in hot:\n",
        "  submission.comments.replace_more(limit=None)\n",
        "  for comment in submission.comments.list():\n",
        "    headlines.add(comment.body)\n",
        "  print(len(headlines))"
      ],
      "execution_count": null,
      "outputs": [
        {
          "output_type": "stream",
          "name": "stdout",
          "text": [
            "0\n",
            "1\n",
            "3\n",
            "22\n",
            "22\n",
            "23\n",
            "26\n",
            "26\n",
            "29\n",
            "60\n",
            "65\n",
            "72\n",
            "74\n",
            "98\n",
            "107\n",
            "108\n",
            "112\n",
            "113\n",
            "120\n",
            "120\n",
            "154\n",
            "157\n",
            "157\n",
            "158\n",
            "161\n",
            "163\n",
            "169\n",
            "175\n",
            "194\n",
            "195\n",
            "212\n",
            "213\n",
            "221\n",
            "311\n",
            "313\n",
            "322\n",
            "322\n",
            "325\n",
            "328\n",
            "344\n",
            "350\n",
            "351\n",
            "361\n",
            "375\n",
            "378\n",
            "382\n",
            "384\n",
            "385\n",
            "397\n",
            "402\n",
            "405\n",
            "407\n",
            "418\n",
            "423\n",
            "424\n",
            "427\n",
            "427\n",
            "457\n",
            "472\n",
            "492\n",
            "495\n",
            "525\n",
            "536\n",
            "550\n",
            "565\n",
            "569\n",
            "582\n",
            "604\n",
            "610\n",
            "615\n",
            "625\n",
            "630\n",
            "668\n",
            "672\n",
            "682\n",
            "685\n",
            "685\n",
            "686\n",
            "690\n",
            "695\n",
            "701\n",
            "701\n",
            "704\n",
            "721\n",
            "724\n",
            "728\n",
            "737\n",
            "740\n",
            "743\n",
            "750\n",
            "758\n",
            "770\n",
            "826\n",
            "831\n",
            "859\n",
            "865\n",
            "868\n",
            "878\n",
            "881\n",
            "881\n",
            "889\n",
            "891\n",
            "898\n",
            "900\n",
            "937\n",
            "937\n",
            "940\n",
            "941\n",
            "941\n",
            "942\n",
            "948\n",
            "949\n",
            "956\n",
            "979\n",
            "979\n",
            "990\n",
            "1009\n",
            "1012\n",
            "1019\n",
            "1021\n",
            "1021\n",
            "1026\n",
            "1030\n",
            "1031\n",
            "1048\n",
            "1103\n",
            "1107\n",
            "1108\n",
            "1110\n",
            "1111\n",
            "1113\n",
            "1117\n",
            "1118\n",
            "1133\n",
            "1136\n",
            "1142\n",
            "1146\n",
            "1146\n",
            "1174\n",
            "1179\n",
            "1180\n",
            "1180\n",
            "1189\n",
            "1191\n",
            "1205\n",
            "1207\n",
            "1214\n",
            "1252\n",
            "1253\n",
            "1257\n",
            "1295\n",
            "1295\n",
            "1316\n",
            "1322\n",
            "1331\n",
            "1333\n",
            "1342\n",
            "1343\n",
            "1346\n",
            "1357\n",
            "1372\n",
            "1372\n",
            "1374\n",
            "1374\n",
            "1380\n",
            "1382\n",
            "1387\n",
            "1393\n",
            "1394\n",
            "1397\n",
            "1397\n",
            "1409\n",
            "1410\n",
            "1413\n",
            "1413\n",
            "1415\n",
            "1416\n",
            "1416\n",
            "1416\n",
            "1425\n",
            "1444\n",
            "1457\n",
            "1463\n",
            "1467\n",
            "1471\n",
            "1481\n",
            "1487\n",
            "1490\n",
            "1496\n",
            "1502\n",
            "1513\n",
            "1517\n",
            "1517\n",
            "1522\n",
            "1526\n",
            "1532\n",
            "1554\n",
            "1554\n",
            "1572\n",
            "1580\n",
            "1605\n",
            "1611\n",
            "1614\n",
            "1622\n",
            "1629\n",
            "1629\n",
            "1634\n",
            "1639\n",
            "1647\n",
            "1648\n",
            "1675\n",
            "1683\n",
            "1684\n",
            "1693\n",
            "1697\n",
            "1698\n",
            "1718\n",
            "1732\n",
            "1748\n",
            "1756\n",
            "1765\n",
            "1768\n",
            "1778\n",
            "1780\n",
            "1781\n",
            "1794\n",
            "1809\n",
            "1833\n",
            "1833\n",
            "1837\n",
            "1839\n",
            "1843\n",
            "1863\n",
            "1864\n",
            "1867\n",
            "1871\n",
            "1875\n",
            "1916\n",
            "1922\n",
            "1946\n",
            "1946\n",
            "1948\n",
            "1963\n",
            "1965\n",
            "1986\n",
            "2001\n",
            "2006\n",
            "2010\n",
            "2015\n",
            "2025\n",
            "2026\n",
            "2081\n",
            "2084\n",
            "2093\n",
            "2118\n",
            "2138\n",
            "2145\n",
            "2145\n",
            "2162\n",
            "2167\n",
            "2173\n",
            "2180\n",
            "2203\n",
            "2220\n",
            "2230\n",
            "2266\n",
            "2290\n",
            "2292\n",
            "2304\n",
            "2304\n",
            "2309\n",
            "2317\n",
            "2328\n",
            "2336\n",
            "2340\n",
            "2361\n",
            "2371\n",
            "2382\n",
            "2392\n",
            "2445\n",
            "2447\n",
            "2448\n",
            "2450\n",
            "2470\n",
            "2483\n",
            "2493\n",
            "2502\n",
            "2503\n",
            "2510\n",
            "2518\n",
            "2518\n",
            "2519\n",
            "2520\n",
            "2521\n",
            "2522\n",
            "2525\n",
            "2531\n",
            "2533\n",
            "2535\n",
            "2539\n",
            "2539\n",
            "2540\n",
            "2541\n",
            "2544\n",
            "2555\n",
            "2556\n",
            "2559\n",
            "2559\n",
            "2564\n",
            "2569\n",
            "2571\n",
            "2581\n",
            "2591\n",
            "2600\n",
            "2604\n",
            "2606\n",
            "2608\n",
            "2611\n",
            "2616\n",
            "2625\n",
            "2625\n",
            "2628\n",
            "2629\n",
            "2631\n",
            "2637\n",
            "2639\n",
            "2641\n",
            "2643\n",
            "2644\n",
            "2653\n",
            "2656\n",
            "2669\n",
            "2671\n",
            "2678\n",
            "2689\n",
            "2690\n",
            "2698\n",
            "2703\n",
            "2721\n",
            "2721\n",
            "2721\n",
            "2728\n",
            "2729\n",
            "2729\n",
            "2734\n",
            "2741\n",
            "2741\n",
            "2746\n",
            "2747\n",
            "2747\n",
            "2753\n",
            "2754\n",
            "2754\n",
            "2756\n",
            "2756\n",
            "2763\n",
            "2766\n",
            "2780\n",
            "2796\n",
            "2796\n",
            "2796\n",
            "2796\n",
            "2797\n",
            "2800\n",
            "2801\n",
            "2801\n",
            "2802\n",
            "2804\n",
            "2805\n",
            "2821\n",
            "2823\n",
            "2823\n",
            "2823\n",
            "2828\n",
            "2829\n",
            "2833\n",
            "2835\n",
            "2837\n",
            "2837\n",
            "2838\n",
            "2840\n",
            "2841\n",
            "2843\n",
            "2843\n",
            "2843\n",
            "2849\n",
            "2849\n",
            "2850\n",
            "2851\n",
            "2852\n",
            "2853\n",
            "2853\n",
            "2856\n",
            "2858\n",
            "2858\n",
            "2862\n",
            "2866\n",
            "2869\n",
            "2873\n",
            "2879\n",
            "2880\n",
            "2886\n",
            "2890\n",
            "2906\n",
            "2908\n",
            "2913\n",
            "2919\n",
            "2931\n",
            "2934\n",
            "2934\n",
            "2936\n",
            "2945\n",
            "2946\n",
            "2947\n",
            "2955\n",
            "2959\n",
            "2962\n",
            "2973\n",
            "2975\n",
            "2979\n",
            "2985\n",
            "2995\n",
            "2997\n"
          ]
        }
      ]
    },
    {
      "cell_type": "code",
      "metadata": {
        "colab": {
          "base_uri": "https://localhost:8080/",
          "height": 419
        },
        "id": "yRkykxIBKJ2H",
        "outputId": "fb627882-f4c8-4efd-e355-c0c8ddd5c30f"
      },
      "source": [
        "data = pd.DataFrame(headlines)\n",
        "data"
      ],
      "execution_count": null,
      "outputs": [
        {
          "output_type": "execute_result",
          "data": {
            "text/html": [
              "<div>\n",
              "<style scoped>\n",
              "    .dataframe tbody tr th:only-of-type {\n",
              "        vertical-align: middle;\n",
              "    }\n",
              "\n",
              "    .dataframe tbody tr th {\n",
              "        vertical-align: top;\n",
              "    }\n",
              "\n",
              "    .dataframe thead th {\n",
              "        text-align: right;\n",
              "    }\n",
              "</style>\n",
              "<table border=\"1\" class=\"dataframe\">\n",
              "  <thead>\n",
              "    <tr style=\"text-align: right;\">\n",
              "      <th></th>\n",
              "      <th>0</th>\n",
              "    </tr>\n",
              "  </thead>\n",
              "  <tbody>\n",
              "    <tr>\n",
              "      <th>0</th>\n",
              "      <td>Debt\\nI've heard vet school is super expensive...</td>\n",
              "    </tr>\n",
              "    <tr>\n",
              "      <th>1</th>\n",
              "      <td>Season 3 had a great ending, the best so far. ...</td>\n",
              "    </tr>\n",
              "    <tr>\n",
              "      <th>2</th>\n",
              "      <td>Yerp. How many of them wanted to wear the boot...</td>\n",
              "    </tr>\n",
              "    <tr>\n",
              "      <th>3</th>\n",
              "      <td>Have you reached out to IDEXX? They can usuall...</td>\n",
              "    </tr>\n",
              "    <tr>\n",
              "      <th>4</th>\n",
              "      <td>A muzzle? Seriously, I put a muzzle on any inj...</td>\n",
              "    </tr>\n",
              "    <tr>\n",
              "      <th>...</th>\n",
              "      <td>...</td>\n",
              "    </tr>\n",
              "    <tr>\n",
              "      <th>2992</th>\n",
              "      <td>Bacon, sausage, tomato, cheese and breakfast p...</td>\n",
              "    </tr>\n",
              "    <tr>\n",
              "      <th>2993</th>\n",
              "      <td>I highly recommend the book. It inspired the s...</td>\n",
              "    </tr>\n",
              "    <tr>\n",
              "      <th>2994</th>\n",
              "      <td>Medivet helped me learn what I don’t want to g...</td>\n",
              "    </tr>\n",
              "    <tr>\n",
              "      <th>2995</th>\n",
              "      <td>This has been a real drain on our clinic as we...</td>\n",
              "    </tr>\n",
              "    <tr>\n",
              "      <th>2996</th>\n",
              "      <td>I think hoomphree meant while closing the SQ, ...</td>\n",
              "    </tr>\n",
              "  </tbody>\n",
              "</table>\n",
              "<p>2997 rows × 1 columns</p>\n",
              "</div>"
            ],
            "text/plain": [
              "                                                      0\n",
              "0     Debt\\nI've heard vet school is super expensive...\n",
              "1     Season 3 had a great ending, the best so far. ...\n",
              "2     Yerp. How many of them wanted to wear the boot...\n",
              "3     Have you reached out to IDEXX? They can usuall...\n",
              "4     A muzzle? Seriously, I put a muzzle on any inj...\n",
              "...                                                 ...\n",
              "2992  Bacon, sausage, tomato, cheese and breakfast p...\n",
              "2993  I highly recommend the book. It inspired the s...\n",
              "2994  Medivet helped me learn what I don’t want to g...\n",
              "2995  This has been a real drain on our clinic as we...\n",
              "2996  I think hoomphree meant while closing the SQ, ...\n",
              "\n",
              "[2997 rows x 1 columns]"
            ]
          },
          "metadata": {},
          "execution_count": 5
        }
      ]
    },
    {
      "cell_type": "code",
      "metadata": {
        "id": "xlCK_LByan1-"
      },
      "source": [
        "data.to_csv('/content/drive/MyDrive/scrap.csv', header=False, encoding='utf-8', index=False )"
      ],
      "execution_count": null,
      "outputs": []
    },
    {
      "cell_type": "code",
      "metadata": {
        "colab": {
          "base_uri": "https://localhost:8080/"
        },
        "id": "J3qLtSgYi2YM",
        "outputId": "8770c704-f4c4-48ab-b4ea-499dc68658d3"
      },
      "source": [
        "import nltk\n",
        "nltk.download('vader_lexicon')"
      ],
      "execution_count": null,
      "outputs": [
        {
          "output_type": "stream",
          "name": "stdout",
          "text": [
            "[nltk_data] Downloading package vader_lexicon to /root/nltk_data...\n"
          ]
        },
        {
          "output_type": "execute_result",
          "data": {
            "text/plain": [
              "True"
            ]
          },
          "metadata": {},
          "execution_count": 7
        }
      ]
    },
    {
      "cell_type": "code",
      "metadata": {
        "colab": {
          "base_uri": "https://localhost:8080/"
        },
        "id": "E5kdXTOVkWhH",
        "outputId": "7a0230fd-167e-4c72-ae9f-ecf7ca363f16"
      },
      "source": [
        "from nltk.sentiment.vader import SentimentIntensityAnalyzer as SIA\n",
        "\n",
        "sia = SIA()\n",
        "results =[]\n",
        "for line in headlines:\n",
        "  pol_score = sia.polarity_scores(line)\n",
        "  pol_score['text'] = line\n",
        "  results.append(pol_score)\n",
        "pprint.pprint(results[:5], width=100)"
      ],
      "execution_count": null,
      "outputs": [
        {
          "output_type": "stream",
          "name": "stderr",
          "text": [
            "/usr/local/lib/python3.7/dist-packages/nltk/twitter/__init__.py:20: UserWarning: The twython library has not been installed. Some functionality from the twitter package will not be available.\n",
            "  warnings.warn(\"The twython library has not been installed. \"\n"
          ]
        },
        {
          "output_type": "stream",
          "name": "stdout",
          "text": [
            "[{'compound': -0.7203,\n",
            "  'neg': 0.342,\n",
            "  'neu': 0.555,\n",
            "  'pos': 0.103,\n",
            "  'text': 'Debt\\n'\n",
            "          \"I've heard vet school is super expensive so any tips on how to pay debt off fast ? I \"\n",
            "          \"don't want to have to pay loans off until I die\"},\n",
            " {'compound': 0.7458,\n",
            "  'neg': 0.127,\n",
            "  'neu': 0.516,\n",
            "  'pos': 0.357,\n",
            "  'text': 'Season 3 had a great ending, the best so far. The problem is that the series ended.'},\n",
            " {'compound': 0.0,\n",
            "  'neg': 0.0,\n",
            "  'neu': 1.0,\n",
            "  'pos': 0.0,\n",
            "  'text': 'Yerp. How many of them wanted to wear the booty shorts?'},\n",
            " {'compound': 0.1027,\n",
            "  'neg': 0.0,\n",
            "  'neu': 0.92,\n",
            "  'pos': 0.08,\n",
            "  'text': 'Have you reached out to IDEXX? They can usually provide reference ranges for the '\n",
            "          'platform you’re using.'},\n",
            " {'compound': 0.4434,\n",
            "  'neg': 0.186,\n",
            "  'neu': 0.557,\n",
            "  'pos': 0.257,\n",
            "  'text': 'A muzzle? Seriously, I put a muzzle on any injured pet. Even the nicest, well-trained '\n",
            "          'pet will bite when they’re in pain. Not their fault. And not your fault. They don’t '\n",
            "          'need a gift.'}]\n"
          ]
        }
      ]
    },
    {
      "cell_type": "code",
      "metadata": {
        "colab": {
          "base_uri": "https://localhost:8080/",
          "height": 419
        },
        "id": "lQZMCUvxrBet",
        "outputId": "a7f7fd59-7872-44d2-fbde-6e44f2308506"
      },
      "source": [
        "df = pd.DataFrame.from_records(results)\n",
        "df"
      ],
      "execution_count": null,
      "outputs": [
        {
          "output_type": "execute_result",
          "data": {
            "text/html": [
              "<div>\n",
              "<style scoped>\n",
              "    .dataframe tbody tr th:only-of-type {\n",
              "        vertical-align: middle;\n",
              "    }\n",
              "\n",
              "    .dataframe tbody tr th {\n",
              "        vertical-align: top;\n",
              "    }\n",
              "\n",
              "    .dataframe thead th {\n",
              "        text-align: right;\n",
              "    }\n",
              "</style>\n",
              "<table border=\"1\" class=\"dataframe\">\n",
              "  <thead>\n",
              "    <tr style=\"text-align: right;\">\n",
              "      <th></th>\n",
              "      <th>neg</th>\n",
              "      <th>neu</th>\n",
              "      <th>pos</th>\n",
              "      <th>compound</th>\n",
              "      <th>text</th>\n",
              "    </tr>\n",
              "  </thead>\n",
              "  <tbody>\n",
              "    <tr>\n",
              "      <th>0</th>\n",
              "      <td>0.342</td>\n",
              "      <td>0.555</td>\n",
              "      <td>0.103</td>\n",
              "      <td>-0.7203</td>\n",
              "      <td>Debt\\nI've heard vet school is super expensive...</td>\n",
              "    </tr>\n",
              "    <tr>\n",
              "      <th>1</th>\n",
              "      <td>0.127</td>\n",
              "      <td>0.516</td>\n",
              "      <td>0.357</td>\n",
              "      <td>0.7458</td>\n",
              "      <td>Season 3 had a great ending, the best so far. ...</td>\n",
              "    </tr>\n",
              "    <tr>\n",
              "      <th>2</th>\n",
              "      <td>0.000</td>\n",
              "      <td>1.000</td>\n",
              "      <td>0.000</td>\n",
              "      <td>0.0000</td>\n",
              "      <td>Yerp. How many of them wanted to wear the boot...</td>\n",
              "    </tr>\n",
              "    <tr>\n",
              "      <th>3</th>\n",
              "      <td>0.000</td>\n",
              "      <td>0.920</td>\n",
              "      <td>0.080</td>\n",
              "      <td>0.1027</td>\n",
              "      <td>Have you reached out to IDEXX? They can usuall...</td>\n",
              "    </tr>\n",
              "    <tr>\n",
              "      <th>4</th>\n",
              "      <td>0.186</td>\n",
              "      <td>0.557</td>\n",
              "      <td>0.257</td>\n",
              "      <td>0.4434</td>\n",
              "      <td>A muzzle? Seriously, I put a muzzle on any inj...</td>\n",
              "    </tr>\n",
              "    <tr>\n",
              "      <th>...</th>\n",
              "      <td>...</td>\n",
              "      <td>...</td>\n",
              "      <td>...</td>\n",
              "      <td>...</td>\n",
              "      <td>...</td>\n",
              "    </tr>\n",
              "    <tr>\n",
              "      <th>2992</th>\n",
              "      <td>0.000</td>\n",
              "      <td>1.000</td>\n",
              "      <td>0.000</td>\n",
              "      <td>0.0000</td>\n",
              "      <td>Bacon, sausage, tomato, cheese and breakfast p...</td>\n",
              "    </tr>\n",
              "    <tr>\n",
              "      <th>2993</th>\n",
              "      <td>0.000</td>\n",
              "      <td>0.778</td>\n",
              "      <td>0.222</td>\n",
              "      <td>0.4582</td>\n",
              "      <td>I highly recommend the book. It inspired the s...</td>\n",
              "    </tr>\n",
              "    <tr>\n",
              "      <th>2994</th>\n",
              "      <td>0.000</td>\n",
              "      <td>0.866</td>\n",
              "      <td>0.134</td>\n",
              "      <td>0.8126</td>\n",
              "      <td>Medivet helped me learn what I don’t want to g...</td>\n",
              "    </tr>\n",
              "    <tr>\n",
              "      <th>2995</th>\n",
              "      <td>0.104</td>\n",
              "      <td>0.723</td>\n",
              "      <td>0.173</td>\n",
              "      <td>0.8753</td>\n",
              "      <td>This has been a real drain on our clinic as we...</td>\n",
              "    </tr>\n",
              "    <tr>\n",
              "      <th>2996</th>\n",
              "      <td>0.000</td>\n",
              "      <td>1.000</td>\n",
              "      <td>0.000</td>\n",
              "      <td>0.0000</td>\n",
              "      <td>I think hoomphree meant while closing the SQ, ...</td>\n",
              "    </tr>\n",
              "  </tbody>\n",
              "</table>\n",
              "<p>2997 rows × 5 columns</p>\n",
              "</div>"
            ],
            "text/plain": [
              "        neg    neu  ...  compound                                               text\n",
              "0     0.342  0.555  ...   -0.7203  Debt\\nI've heard vet school is super expensive...\n",
              "1     0.127  0.516  ...    0.7458  Season 3 had a great ending, the best so far. ...\n",
              "2     0.000  1.000  ...    0.0000  Yerp. How many of them wanted to wear the boot...\n",
              "3     0.000  0.920  ...    0.1027  Have you reached out to IDEXX? They can usuall...\n",
              "4     0.186  0.557  ...    0.4434  A muzzle? Seriously, I put a muzzle on any inj...\n",
              "...     ...    ...  ...       ...                                                ...\n",
              "2992  0.000  1.000  ...    0.0000  Bacon, sausage, tomato, cheese and breakfast p...\n",
              "2993  0.000  0.778  ...    0.4582  I highly recommend the book. It inspired the s...\n",
              "2994  0.000  0.866  ...    0.8126  Medivet helped me learn what I don’t want to g...\n",
              "2995  0.104  0.723  ...    0.8753  This has been a real drain on our clinic as we...\n",
              "2996  0.000  1.000  ...    0.0000  I think hoomphree meant while closing the SQ, ...\n",
              "\n",
              "[2997 rows x 5 columns]"
            ]
          },
          "metadata": {},
          "execution_count": 9
        }
      ]
    },
    {
      "cell_type": "code",
      "metadata": {
        "id": "Ko_KqPReLgBB"
      },
      "source": [
        "def float_range(start, stop, step):\n",
        "  while start < stop:\n",
        "    yield float(start)\n",
        "    start += decimal.Decimal(step)"
      ],
      "execution_count": null,
      "outputs": []
    },
    {
      "cell_type": "code",
      "metadata": {
        "colab": {
          "base_uri": "https://localhost:8080/",
          "height": 419
        },
        "id": "JHdAx6dTrpoF",
        "outputId": "a12a1156-0fc3-4e03-a5bf-e73dfe4c80b3"
      },
      "source": [
        "df['label'] = \"Neutral\"#float_range(0.45, 0.59,0.01) # neutral sentiments\n",
        "df.loc[df['compound']> 0.59, 'label'] = \"Positive\" #positive sentiments \n",
        "df.loc[df['compound']< 0.45, 'label'] = \"Negative\" #negative sentiments\n",
        "df\n"
      ],
      "execution_count": null,
      "outputs": [
        {
          "output_type": "execute_result",
          "data": {
            "text/html": [
              "<div>\n",
              "<style scoped>\n",
              "    .dataframe tbody tr th:only-of-type {\n",
              "        vertical-align: middle;\n",
              "    }\n",
              "\n",
              "    .dataframe tbody tr th {\n",
              "        vertical-align: top;\n",
              "    }\n",
              "\n",
              "    .dataframe thead th {\n",
              "        text-align: right;\n",
              "    }\n",
              "</style>\n",
              "<table border=\"1\" class=\"dataframe\">\n",
              "  <thead>\n",
              "    <tr style=\"text-align: right;\">\n",
              "      <th></th>\n",
              "      <th>neg</th>\n",
              "      <th>neu</th>\n",
              "      <th>pos</th>\n",
              "      <th>compound</th>\n",
              "      <th>text</th>\n",
              "      <th>label</th>\n",
              "    </tr>\n",
              "  </thead>\n",
              "  <tbody>\n",
              "    <tr>\n",
              "      <th>0</th>\n",
              "      <td>0.342</td>\n",
              "      <td>0.555</td>\n",
              "      <td>0.103</td>\n",
              "      <td>-0.7203</td>\n",
              "      <td>Debt\\nI've heard vet school is super expensive...</td>\n",
              "      <td>Negative</td>\n",
              "    </tr>\n",
              "    <tr>\n",
              "      <th>1</th>\n",
              "      <td>0.127</td>\n",
              "      <td>0.516</td>\n",
              "      <td>0.357</td>\n",
              "      <td>0.7458</td>\n",
              "      <td>Season 3 had a great ending, the best so far. ...</td>\n",
              "      <td>Positive</td>\n",
              "    </tr>\n",
              "    <tr>\n",
              "      <th>2</th>\n",
              "      <td>0.000</td>\n",
              "      <td>1.000</td>\n",
              "      <td>0.000</td>\n",
              "      <td>0.0000</td>\n",
              "      <td>Yerp. How many of them wanted to wear the boot...</td>\n",
              "      <td>Negative</td>\n",
              "    </tr>\n",
              "    <tr>\n",
              "      <th>3</th>\n",
              "      <td>0.000</td>\n",
              "      <td>0.920</td>\n",
              "      <td>0.080</td>\n",
              "      <td>0.1027</td>\n",
              "      <td>Have you reached out to IDEXX? They can usuall...</td>\n",
              "      <td>Negative</td>\n",
              "    </tr>\n",
              "    <tr>\n",
              "      <th>4</th>\n",
              "      <td>0.186</td>\n",
              "      <td>0.557</td>\n",
              "      <td>0.257</td>\n",
              "      <td>0.4434</td>\n",
              "      <td>A muzzle? Seriously, I put a muzzle on any inj...</td>\n",
              "      <td>Negative</td>\n",
              "    </tr>\n",
              "    <tr>\n",
              "      <th>...</th>\n",
              "      <td>...</td>\n",
              "      <td>...</td>\n",
              "      <td>...</td>\n",
              "      <td>...</td>\n",
              "      <td>...</td>\n",
              "      <td>...</td>\n",
              "    </tr>\n",
              "    <tr>\n",
              "      <th>2992</th>\n",
              "      <td>0.000</td>\n",
              "      <td>1.000</td>\n",
              "      <td>0.000</td>\n",
              "      <td>0.0000</td>\n",
              "      <td>Bacon, sausage, tomato, cheese and breakfast p...</td>\n",
              "      <td>Negative</td>\n",
              "    </tr>\n",
              "    <tr>\n",
              "      <th>2993</th>\n",
              "      <td>0.000</td>\n",
              "      <td>0.778</td>\n",
              "      <td>0.222</td>\n",
              "      <td>0.4582</td>\n",
              "      <td>I highly recommend the book. It inspired the s...</td>\n",
              "      <td>Neutral</td>\n",
              "    </tr>\n",
              "    <tr>\n",
              "      <th>2994</th>\n",
              "      <td>0.000</td>\n",
              "      <td>0.866</td>\n",
              "      <td>0.134</td>\n",
              "      <td>0.8126</td>\n",
              "      <td>Medivet helped me learn what I don’t want to g...</td>\n",
              "      <td>Positive</td>\n",
              "    </tr>\n",
              "    <tr>\n",
              "      <th>2995</th>\n",
              "      <td>0.104</td>\n",
              "      <td>0.723</td>\n",
              "      <td>0.173</td>\n",
              "      <td>0.8753</td>\n",
              "      <td>This has been a real drain on our clinic as we...</td>\n",
              "      <td>Positive</td>\n",
              "    </tr>\n",
              "    <tr>\n",
              "      <th>2996</th>\n",
              "      <td>0.000</td>\n",
              "      <td>1.000</td>\n",
              "      <td>0.000</td>\n",
              "      <td>0.0000</td>\n",
              "      <td>I think hoomphree meant while closing the SQ, ...</td>\n",
              "      <td>Negative</td>\n",
              "    </tr>\n",
              "  </tbody>\n",
              "</table>\n",
              "<p>2997 rows × 6 columns</p>\n",
              "</div>"
            ],
            "text/plain": [
              "        neg    neu  ...                                               text     label\n",
              "0     0.342  0.555  ...  Debt\\nI've heard vet school is super expensive...  Negative\n",
              "1     0.127  0.516  ...  Season 3 had a great ending, the best so far. ...  Positive\n",
              "2     0.000  1.000  ...  Yerp. How many of them wanted to wear the boot...  Negative\n",
              "3     0.000  0.920  ...  Have you reached out to IDEXX? They can usuall...  Negative\n",
              "4     0.186  0.557  ...  A muzzle? Seriously, I put a muzzle on any inj...  Negative\n",
              "...     ...    ...  ...                                                ...       ...\n",
              "2992  0.000  1.000  ...  Bacon, sausage, tomato, cheese and breakfast p...  Negative\n",
              "2993  0.000  0.778  ...  I highly recommend the book. It inspired the s...   Neutral\n",
              "2994  0.000  0.866  ...  Medivet helped me learn what I don’t want to g...  Positive\n",
              "2995  0.104  0.723  ...  This has been a real drain on our clinic as we...  Positive\n",
              "2996  0.000  1.000  ...  I think hoomphree meant while closing the SQ, ...  Negative\n",
              "\n",
              "[2997 rows x 6 columns]"
            ]
          },
          "metadata": {},
          "execution_count": 203
        }
      ]
    },
    {
      "cell_type": "code",
      "metadata": {
        "colab": {
          "base_uri": "https://localhost:8080/",
          "height": 419
        },
        "id": "O0sqcRROtWEo",
        "outputId": "79fbee5b-f8a9-4941-ab8b-83317bc52bc4"
      },
      "source": [
        "sentiraw = df[['text', 'label']]\n",
        "sentiraw"
      ],
      "execution_count": null,
      "outputs": [
        {
          "output_type": "execute_result",
          "data": {
            "text/html": [
              "<div>\n",
              "<style scoped>\n",
              "    .dataframe tbody tr th:only-of-type {\n",
              "        vertical-align: middle;\n",
              "    }\n",
              "\n",
              "    .dataframe tbody tr th {\n",
              "        vertical-align: top;\n",
              "    }\n",
              "\n",
              "    .dataframe thead th {\n",
              "        text-align: right;\n",
              "    }\n",
              "</style>\n",
              "<table border=\"1\" class=\"dataframe\">\n",
              "  <thead>\n",
              "    <tr style=\"text-align: right;\">\n",
              "      <th></th>\n",
              "      <th>text</th>\n",
              "      <th>label</th>\n",
              "    </tr>\n",
              "  </thead>\n",
              "  <tbody>\n",
              "    <tr>\n",
              "      <th>0</th>\n",
              "      <td>Debt\\nI've heard vet school is super expensive...</td>\n",
              "      <td>Negative</td>\n",
              "    </tr>\n",
              "    <tr>\n",
              "      <th>1</th>\n",
              "      <td>Season 3 had a great ending, the best so far. ...</td>\n",
              "      <td>Positive</td>\n",
              "    </tr>\n",
              "    <tr>\n",
              "      <th>2</th>\n",
              "      <td>Yerp. How many of them wanted to wear the boot...</td>\n",
              "      <td>Negative</td>\n",
              "    </tr>\n",
              "    <tr>\n",
              "      <th>3</th>\n",
              "      <td>Have you reached out to IDEXX? They can usuall...</td>\n",
              "      <td>Negative</td>\n",
              "    </tr>\n",
              "    <tr>\n",
              "      <th>4</th>\n",
              "      <td>A muzzle? Seriously, I put a muzzle on any inj...</td>\n",
              "      <td>Negative</td>\n",
              "    </tr>\n",
              "    <tr>\n",
              "      <th>...</th>\n",
              "      <td>...</td>\n",
              "      <td>...</td>\n",
              "    </tr>\n",
              "    <tr>\n",
              "      <th>2992</th>\n",
              "      <td>Bacon, sausage, tomato, cheese and breakfast p...</td>\n",
              "      <td>Negative</td>\n",
              "    </tr>\n",
              "    <tr>\n",
              "      <th>2993</th>\n",
              "      <td>I highly recommend the book. It inspired the s...</td>\n",
              "      <td>Neutral</td>\n",
              "    </tr>\n",
              "    <tr>\n",
              "      <th>2994</th>\n",
              "      <td>Medivet helped me learn what I don’t want to g...</td>\n",
              "      <td>Positive</td>\n",
              "    </tr>\n",
              "    <tr>\n",
              "      <th>2995</th>\n",
              "      <td>This has been a real drain on our clinic as we...</td>\n",
              "      <td>Positive</td>\n",
              "    </tr>\n",
              "    <tr>\n",
              "      <th>2996</th>\n",
              "      <td>I think hoomphree meant while closing the SQ, ...</td>\n",
              "      <td>Negative</td>\n",
              "    </tr>\n",
              "  </tbody>\n",
              "</table>\n",
              "<p>2997 rows × 2 columns</p>\n",
              "</div>"
            ],
            "text/plain": [
              "                                                   text     label\n",
              "0     Debt\\nI've heard vet school is super expensive...  Negative\n",
              "1     Season 3 had a great ending, the best so far. ...  Positive\n",
              "2     Yerp. How many of them wanted to wear the boot...  Negative\n",
              "3     Have you reached out to IDEXX? They can usuall...  Negative\n",
              "4     A muzzle? Seriously, I put a muzzle on any inj...  Negative\n",
              "...                                                 ...       ...\n",
              "2992  Bacon, sausage, tomato, cheese and breakfast p...  Negative\n",
              "2993  I highly recommend the book. It inspired the s...   Neutral\n",
              "2994  Medivet helped me learn what I don’t want to g...  Positive\n",
              "2995  This has been a real drain on our clinic as we...  Positive\n",
              "2996  I think hoomphree meant while closing the SQ, ...  Negative\n",
              "\n",
              "[2997 rows x 2 columns]"
            ]
          },
          "metadata": {},
          "execution_count": 197
        }
      ]
    },
    {
      "cell_type": "code",
      "metadata": {
        "colab": {
          "base_uri": "https://localhost:8080/",
          "height": 419
        },
        "id": "kmgmJq90sjNv",
        "outputId": "9bc89587-c4b7-4a43-fae8-83bf0e7c7f75"
      },
      "source": [
        "sentidata = df[['text']]\n",
        "sentidata"
      ],
      "execution_count": null,
      "outputs": [
        {
          "output_type": "execute_result",
          "data": {
            "text/html": [
              "<div>\n",
              "<style scoped>\n",
              "    .dataframe tbody tr th:only-of-type {\n",
              "        vertical-align: middle;\n",
              "    }\n",
              "\n",
              "    .dataframe tbody tr th {\n",
              "        vertical-align: top;\n",
              "    }\n",
              "\n",
              "    .dataframe thead th {\n",
              "        text-align: right;\n",
              "    }\n",
              "</style>\n",
              "<table border=\"1\" class=\"dataframe\">\n",
              "  <thead>\n",
              "    <tr style=\"text-align: right;\">\n",
              "      <th></th>\n",
              "      <th>text</th>\n",
              "    </tr>\n",
              "  </thead>\n",
              "  <tbody>\n",
              "    <tr>\n",
              "      <th>0</th>\n",
              "      <td>Debt\\nI've heard vet school is super expensive...</td>\n",
              "    </tr>\n",
              "    <tr>\n",
              "      <th>1</th>\n",
              "      <td>Season 3 had a great ending, the best so far. ...</td>\n",
              "    </tr>\n",
              "    <tr>\n",
              "      <th>2</th>\n",
              "      <td>Yerp. How many of them wanted to wear the boot...</td>\n",
              "    </tr>\n",
              "    <tr>\n",
              "      <th>3</th>\n",
              "      <td>Have you reached out to IDEXX? They can usuall...</td>\n",
              "    </tr>\n",
              "    <tr>\n",
              "      <th>4</th>\n",
              "      <td>A muzzle? Seriously, I put a muzzle on any inj...</td>\n",
              "    </tr>\n",
              "    <tr>\n",
              "      <th>...</th>\n",
              "      <td>...</td>\n",
              "    </tr>\n",
              "    <tr>\n",
              "      <th>2992</th>\n",
              "      <td>Bacon, sausage, tomato, cheese and breakfast p...</td>\n",
              "    </tr>\n",
              "    <tr>\n",
              "      <th>2993</th>\n",
              "      <td>I highly recommend the book. It inspired the s...</td>\n",
              "    </tr>\n",
              "    <tr>\n",
              "      <th>2994</th>\n",
              "      <td>Medivet helped me learn what I don’t want to g...</td>\n",
              "    </tr>\n",
              "    <tr>\n",
              "      <th>2995</th>\n",
              "      <td>This has been a real drain on our clinic as we...</td>\n",
              "    </tr>\n",
              "    <tr>\n",
              "      <th>2996</th>\n",
              "      <td>I think hoomphree meant while closing the SQ, ...</td>\n",
              "    </tr>\n",
              "  </tbody>\n",
              "</table>\n",
              "<p>2997 rows × 1 columns</p>\n",
              "</div>"
            ],
            "text/plain": [
              "                                                   text\n",
              "0     Debt\\nI've heard vet school is super expensive...\n",
              "1     Season 3 had a great ending, the best so far. ...\n",
              "2     Yerp. How many of them wanted to wear the boot...\n",
              "3     Have you reached out to IDEXX? They can usuall...\n",
              "4     A muzzle? Seriously, I put a muzzle on any inj...\n",
              "...                                                 ...\n",
              "2992  Bacon, sausage, tomato, cheese and breakfast p...\n",
              "2993  I highly recommend the book. It inspired the s...\n",
              "2994  Medivet helped me learn what I don’t want to g...\n",
              "2995  This has been a real drain on our clinic as we...\n",
              "2996  I think hoomphree meant while closing the SQ, ...\n",
              "\n",
              "[2997 rows x 1 columns]"
            ]
          },
          "metadata": {},
          "execution_count": 26
        }
      ]
    },
    {
      "cell_type": "code",
      "metadata": {
        "colab": {
          "base_uri": "https://localhost:8080/",
          "height": 419
        },
        "id": "e6B1sLVPtLDd",
        "outputId": "71e32923-6789-4480-a4a6-580bafde9748"
      },
      "source": [
        "sentilabel = df[['label']]\n",
        "sentilabel"
      ],
      "execution_count": null,
      "outputs": [
        {
          "output_type": "execute_result",
          "data": {
            "text/html": [
              "<div>\n",
              "<style scoped>\n",
              "    .dataframe tbody tr th:only-of-type {\n",
              "        vertical-align: middle;\n",
              "    }\n",
              "\n",
              "    .dataframe tbody tr th {\n",
              "        vertical-align: top;\n",
              "    }\n",
              "\n",
              "    .dataframe thead th {\n",
              "        text-align: right;\n",
              "    }\n",
              "</style>\n",
              "<table border=\"1\" class=\"dataframe\">\n",
              "  <thead>\n",
              "    <tr style=\"text-align: right;\">\n",
              "      <th></th>\n",
              "      <th>label</th>\n",
              "    </tr>\n",
              "  </thead>\n",
              "  <tbody>\n",
              "    <tr>\n",
              "      <th>0</th>\n",
              "      <td>Negative</td>\n",
              "    </tr>\n",
              "    <tr>\n",
              "      <th>1</th>\n",
              "      <td>Positive</td>\n",
              "    </tr>\n",
              "    <tr>\n",
              "      <th>2</th>\n",
              "      <td>Negative</td>\n",
              "    </tr>\n",
              "    <tr>\n",
              "      <th>3</th>\n",
              "      <td>Negative</td>\n",
              "    </tr>\n",
              "    <tr>\n",
              "      <th>4</th>\n",
              "      <td>Negative</td>\n",
              "    </tr>\n",
              "    <tr>\n",
              "      <th>...</th>\n",
              "      <td>...</td>\n",
              "    </tr>\n",
              "    <tr>\n",
              "      <th>2992</th>\n",
              "      <td>Negative</td>\n",
              "    </tr>\n",
              "    <tr>\n",
              "      <th>2993</th>\n",
              "      <td>Neutral</td>\n",
              "    </tr>\n",
              "    <tr>\n",
              "      <th>2994</th>\n",
              "      <td>Positive</td>\n",
              "    </tr>\n",
              "    <tr>\n",
              "      <th>2995</th>\n",
              "      <td>Positive</td>\n",
              "    </tr>\n",
              "    <tr>\n",
              "      <th>2996</th>\n",
              "      <td>Negative</td>\n",
              "    </tr>\n",
              "  </tbody>\n",
              "</table>\n",
              "<p>2997 rows × 1 columns</p>\n",
              "</div>"
            ],
            "text/plain": [
              "         label\n",
              "0     Negative\n",
              "1     Positive\n",
              "2     Negative\n",
              "3     Negative\n",
              "4     Negative\n",
              "...        ...\n",
              "2992  Negative\n",
              "2993   Neutral\n",
              "2994  Positive\n",
              "2995  Positive\n",
              "2996  Negative\n",
              "\n",
              "[2997 rows x 1 columns]"
            ]
          },
          "metadata": {},
          "execution_count": 27
        }
      ]
    },
    {
      "cell_type": "code",
      "metadata": {
        "id": "hSPDMRm1tGAa"
      },
      "source": [
        "sentiraw.to_csv('/content/drive/MyDrive/sentiments.csv', header=False, encoding='utf-8', index=False )"
      ],
      "execution_count": null,
      "outputs": []
    },
    {
      "cell_type": "code",
      "metadata": {
        "id": "0NykzmCetjyX"
      },
      "source": [
        "sentidata.to_csv('/content/drive/MyDrive/sentitext.csv', header=False, encoding='utf-8', index=False )"
      ],
      "execution_count": null,
      "outputs": []
    },
    {
      "cell_type": "code",
      "metadata": {
        "id": "PZQkJEEgtpLj"
      },
      "source": [
        "sentilabel.to_csv('/content/drive/MyDrive/sentilabel.csv', header=False, encoding='utf-8', index=False )"
      ],
      "execution_count": null,
      "outputs": []
    },
    {
      "cell_type": "code",
      "metadata": {
        "colab": {
          "base_uri": "https://localhost:8080/"
        },
        "id": "NJ58V1kltT4t",
        "outputId": "acbdf2c7-ca45-4337-f752-f028dc80db45"
      },
      "source": [
        "df.label.value_counts()"
      ],
      "execution_count": null,
      "outputs": [
        {
          "output_type": "execute_result",
          "data": {
            "text/plain": [
              "Negative    1816\n",
              "Positive     953\n",
              "Neutral      228\n",
              "Name: label, dtype: int64"
            ]
          },
          "metadata": {},
          "execution_count": 14
        }
      ]
    },
    {
      "cell_type": "code",
      "metadata": {
        "colab": {
          "base_uri": "https://localhost:8080/"
        },
        "id": "VYN6zHYTuspV",
        "outputId": "4a2ed2b8-432c-48f9-c0f4-1ae5150b8070"
      },
      "source": [
        "df.label.value_counts(normalize=True)*100"
      ],
      "execution_count": null,
      "outputs": [
        {
          "output_type": "execute_result",
          "data": {
            "text/plain": [
              "Negative    60.593927\n",
              "Positive    31.798465\n",
              "Neutral      7.607608\n",
              "Name: label, dtype: float64"
            ]
          },
          "metadata": {},
          "execution_count": 15
        }
      ]
    },
    {
      "cell_type": "code",
      "metadata": {
        "colab": {
          "base_uri": "https://localhost:8080/"
        },
        "id": "GXRXrn1IvPqo",
        "outputId": "452803ed-94b5-44b3-a0a1-ef857c0a726d"
      },
      "source": [
        "print(\"positive sentiment:\\n\")\n",
        "pprint.pprint(list(df[df['label'] == \"Positive\"].text)[:10], width=200)\n",
        "\n",
        "print(\"negative sentiment:\\n\")\n",
        "pprint.pprint(list(df[df['label'] == \"Negative\"].text)[:10], width=200)\n",
        "\n",
        "#print(\"neutral sentiment:\\n\")\n",
        "#pprint.pprint(list(df[df['label'] == \"Neutral\"].text)[:10], width=200)"
      ],
      "execution_count": null,
      "outputs": [
        {
          "output_type": "stream",
          "name": "stdout",
          "text": [
            "positive sentiment:\n",
            "\n",
            "['Season 3 had a great ending, the best so far. The problem is that the series ended.',\n",
            " 'i love lucy the candy episode, Lucy and Ethel get jobs.',\n",
            " 'I think this is a clever concept as we (as a society) move toward a more contactless experience, but not necessarily an anti-social one. If I catch the right drift, it sounds like the proposed '\n",
            " 'experience would allow for more quality time with your companions.\\n'\n",
            " '\\n'\n",
            " 'If you’ve been to said restaurant on many occasions and know exactly what you want, why should you have to go through the waiting game just get the part where you’re enjoying what you came for? '\n",
            " 'I’m a regular at many local restaurants and far more enjoy chatting with the employees about their life, not about the menu.\\n'\n",
            " '\\n'\n",
            " 'Sign me up for this idea, where can I go?!',\n",
            " \"Working in restaurants aren't really about passion and theoretical knowledge. It's about being a team player, to keep your fucking head down, being fast and efficient, working safely and listen to \"\n",
            " \"the chef. When you start out, you are at the bottom, and it's very easy to see who's not cut out for the job.\\n\"\n",
            " ' \\n'\n",
            " \"If you do get another chance, listen, do as you're told, keep your station clean and be efficient. You can be passionate about ingredients and authentic food on your own time.\",\n",
            " 'Ok honest questuon, how are people still watching this show? Like no one talks about it, how did you stumble upon this show?',\n",
            " 'We pool in the bar. Had an issue come up during the holidays a couple years back of extra cash tips for certain bartenders from certain regulars. We got together and decided that any tips in cards '\n",
            " \"or envelops age for that certain bartender, otherwise it goes in the pot. I trust my team wholeheartedly, otherwise I couldn't work with them.\",\n",
            " \"As a vet student, you get free membership to VIN ([https://www.vin.com/vin/default.aspx?pId=130&id=8286353](https://www.vin.com/vin/default.aspx?pId=130&id=8286353)).  It's amazingly helpful; I've \"\n",
            " 'been out 20 years and still use it all the time.',\n",
            " \"\\\\-\\\\_- Glad you survived and didn't choke. But in all reality this is probably a one time issue and the staff wasn't trained to give you your freebie. Be a person and let it go. Not everything \"\n",
            " 'has to be made to a Greek tragedy.',\n",
            " 'Favorites at our clinic are fruit trays and a dozen donuts. We really appreciate clients like you, especially right now',\n",
            " \"Thanks for all y'all's suggestions, I'll look into food options. I can definitely see that area being a food desert at night.\\n\\n[pitiful pup tax](http://imgur.com/a/oyQ1a11)\"]\n",
            "negative sentiment:\n",
            "\n",
            "[\"Debt\\nI've heard vet school is super expensive so any tips on how to pay debt off fast ? I don't want to have to pay loans off until I die\",\n",
            " 'Yerp. How many of them wanted to wear the booty shorts?',\n",
            " 'Have you reached out to IDEXX? They can usually provide reference ranges for the platform you’re using.',\n",
            " 'A muzzle? Seriously, I put a muzzle on any injured pet. Even the nicest, well-trained pet will bite when they’re in pain. Not their fault. And not your fault. They don’t need a gift.',\n",
            " 'Whats in it',\n",
            " 'Thank you 💕',\n",
            " 'You should still watch the third season. Even if it ends on a cliffhanger, it’s still worth watching',\n",
            " 'Is your business a non-profit or for-profit? Where does your capital come from to recruit and provide training?\\n'\n",
            " '\\n'\n",
            " \"I think your heart is in the right place, but I can't really see restaurants paying a premium for a service when they can achieve the same results with a craigslist ad.\",\n",
            " 'I prefer prime but I can always find it. I do go by the marbling of the beef, which makes the beef tender',\n",
            " 'Aye bruh, don’t gotta be a dick about it like they tryna help you']\n"
          ]
        }
      ]
    },
    {
      "cell_type": "code",
      "metadata": {
        "colab": {
          "base_uri": "https://localhost:8080/",
          "height": 483
        },
        "id": "UsB7cgK3yCTC",
        "outputId": "12c15c5f-6b45-4e6c-d0ab-3d3701661e43"
      },
      "source": [
        "fig, ax = plt.subplots(figsize=(8,8))\n",
        "stats = df.label.value_counts(normalize=True)*100\n",
        "sns.barplot(x=stats.index, y=stats, ax=ax)\n",
        "ax.set_xticklabels(['Negative','Neutral' 'Positive'])\n",
        "ax.set_ylabel('Precentage')\n",
        "plt.show()"
      ],
      "execution_count": null,
      "outputs": [
        {
          "output_type": "display_data",
          "data": {
            "image/png": "[encoded data removed]",
            "text/plain": [
              "<Figure size 576x576 with 1 Axes>"
            ]
          },
          "metadata": {
            "needs_background": "light"
          }
        }
      ]
    },
    {
      "cell_type": "code",
      "metadata": {
        "id": "hVoMdFu47Olm"
      },
      "source": [
        "!mv \"/content/amazon_alexa.tsv\" \"/content/drive/MyDrive\""
      ],
      "execution_count": null,
      "outputs": []
    },
    {
      "cell_type": "code",
      "metadata": {
        "colab": {
          "base_uri": "https://localhost:8080/",
          "height": 419
        },
        "id": "d2oH7_8Wv7iA",
        "outputId": "40ba865e-1df6-47b9-c675-86a51e636306"
      },
      "source": [
        "data = pd.read_csv('/content/drive/MyDrive/sentiments.csv')\n",
        "data.columns=['text','label']\n",
        "data"
      ],
      "execution_count": null,
      "outputs": [
        {
          "output_type": "execute_result",
          "data": {
            "text/html": [
              "<div>\n",
              "<style scoped>\n",
              "    .dataframe tbody tr th:only-of-type {\n",
              "        vertical-align: middle;\n",
              "    }\n",
              "\n",
              "    .dataframe tbody tr th {\n",
              "        vertical-align: top;\n",
              "    }\n",
              "\n",
              "    .dataframe thead th {\n",
              "        text-align: right;\n",
              "    }\n",
              "</style>\n",
              "<table border=\"1\" class=\"dataframe\">\n",
              "  <thead>\n",
              "    <tr style=\"text-align: right;\">\n",
              "      <th></th>\n",
              "      <th>text</th>\n",
              "      <th>label</th>\n",
              "    </tr>\n",
              "  </thead>\n",
              "  <tbody>\n",
              "    <tr>\n",
              "      <th>0</th>\n",
              "      <td>Season 3 had a great ending, the best so far. ...</td>\n",
              "      <td>Positive</td>\n",
              "    </tr>\n",
              "    <tr>\n",
              "      <th>1</th>\n",
              "      <td>Yerp. How many of them wanted to wear the boot...</td>\n",
              "      <td>Negative</td>\n",
              "    </tr>\n",
              "    <tr>\n",
              "      <th>2</th>\n",
              "      <td>Have you reached out to IDEXX? They can usuall...</td>\n",
              "      <td>Negative</td>\n",
              "    </tr>\n",
              "    <tr>\n",
              "      <th>3</th>\n",
              "      <td>A muzzle? Seriously, I put a muzzle on any inj...</td>\n",
              "      <td>Negative</td>\n",
              "    </tr>\n",
              "    <tr>\n",
              "      <th>4</th>\n",
              "      <td>Whats in it</td>\n",
              "      <td>Negative</td>\n",
              "    </tr>\n",
              "    <tr>\n",
              "      <th>...</th>\n",
              "      <td>...</td>\n",
              "      <td>...</td>\n",
              "    </tr>\n",
              "    <tr>\n",
              "      <th>2991</th>\n",
              "      <td>Bacon, sausage, tomato, cheese and breakfast p...</td>\n",
              "      <td>Negative</td>\n",
              "    </tr>\n",
              "    <tr>\n",
              "      <th>2992</th>\n",
              "      <td>I highly recommend the book. It inspired the s...</td>\n",
              "      <td>Neutral</td>\n",
              "    </tr>\n",
              "    <tr>\n",
              "      <th>2993</th>\n",
              "      <td>Medivet helped me learn what I don’t want to g...</td>\n",
              "      <td>Positive</td>\n",
              "    </tr>\n",
              "    <tr>\n",
              "      <th>2994</th>\n",
              "      <td>This has been a real drain on our clinic as we...</td>\n",
              "      <td>Positive</td>\n",
              "    </tr>\n",
              "    <tr>\n",
              "      <th>2995</th>\n",
              "      <td>I think hoomphree meant while closing the SQ, ...</td>\n",
              "      <td>Negative</td>\n",
              "    </tr>\n",
              "  </tbody>\n",
              "</table>\n",
              "<p>2996 rows × 2 columns</p>\n",
              "</div>"
            ],
            "text/plain": [
              "                                                   text     label\n",
              "0     Season 3 had a great ending, the best so far. ...  Positive\n",
              "1     Yerp. How many of them wanted to wear the boot...  Negative\n",
              "2     Have you reached out to IDEXX? They can usuall...  Negative\n",
              "3     A muzzle? Seriously, I put a muzzle on any inj...  Negative\n",
              "4                                           Whats in it  Negative\n",
              "...                                                 ...       ...\n",
              "2991  Bacon, sausage, tomato, cheese and breakfast p...  Negative\n",
              "2992  I highly recommend the book. It inspired the s...   Neutral\n",
              "2993  Medivet helped me learn what I don’t want to g...  Positive\n",
              "2994  This has been a real drain on our clinic as we...  Positive\n",
              "2995  I think hoomphree meant while closing the SQ, ...  Negative\n",
              "\n",
              "[2996 rows x 2 columns]"
            ]
          },
          "metadata": {},
          "execution_count": 209
        }
      ]
    },
    {
      "cell_type": "code",
      "metadata": {
        "colab": {
          "base_uri": "https://localhost:8080/",
          "height": 419
        },
        "id": "NrFbCaAGJeJr",
        "outputId": "c0adb7c7-c871-446a-b0db-417950788bad"
      },
      "source": [
        "data = data[data['label']!='Neutral']\n",
        "data"
      ],
      "execution_count": null,
      "outputs": [
        {
          "output_type": "execute_result",
          "data": {
            "text/html": [
              "<div>\n",
              "<style scoped>\n",
              "    .dataframe tbody tr th:only-of-type {\n",
              "        vertical-align: middle;\n",
              "    }\n",
              "\n",
              "    .dataframe tbody tr th {\n",
              "        vertical-align: top;\n",
              "    }\n",
              "\n",
              "    .dataframe thead th {\n",
              "        text-align: right;\n",
              "    }\n",
              "</style>\n",
              "<table border=\"1\" class=\"dataframe\">\n",
              "  <thead>\n",
              "    <tr style=\"text-align: right;\">\n",
              "      <th></th>\n",
              "      <th>text</th>\n",
              "      <th>label</th>\n",
              "    </tr>\n",
              "  </thead>\n",
              "  <tbody>\n",
              "    <tr>\n",
              "      <th>0</th>\n",
              "      <td>Season 3 had a great ending, the best so far. ...</td>\n",
              "      <td>Positive</td>\n",
              "    </tr>\n",
              "    <tr>\n",
              "      <th>1</th>\n",
              "      <td>Yerp. How many of them wanted to wear the boot...</td>\n",
              "      <td>Negative</td>\n",
              "    </tr>\n",
              "    <tr>\n",
              "      <th>2</th>\n",
              "      <td>Have you reached out to IDEXX? They can usuall...</td>\n",
              "      <td>Negative</td>\n",
              "    </tr>\n",
              "    <tr>\n",
              "      <th>3</th>\n",
              "      <td>A muzzle? Seriously, I put a muzzle on any inj...</td>\n",
              "      <td>Negative</td>\n",
              "    </tr>\n",
              "    <tr>\n",
              "      <th>4</th>\n",
              "      <td>Whats in it</td>\n",
              "      <td>Negative</td>\n",
              "    </tr>\n",
              "    <tr>\n",
              "      <th>...</th>\n",
              "      <td>...</td>\n",
              "      <td>...</td>\n",
              "    </tr>\n",
              "    <tr>\n",
              "      <th>2990</th>\n",
              "      <td>Listen, I want it as much as the next but, let...</td>\n",
              "      <td>Positive</td>\n",
              "    </tr>\n",
              "    <tr>\n",
              "      <th>2991</th>\n",
              "      <td>Bacon, sausage, tomato, cheese and breakfast p...</td>\n",
              "      <td>Negative</td>\n",
              "    </tr>\n",
              "    <tr>\n",
              "      <th>2993</th>\n",
              "      <td>Medivet helped me learn what I don’t want to g...</td>\n",
              "      <td>Positive</td>\n",
              "    </tr>\n",
              "    <tr>\n",
              "      <th>2994</th>\n",
              "      <td>This has been a real drain on our clinic as we...</td>\n",
              "      <td>Positive</td>\n",
              "    </tr>\n",
              "    <tr>\n",
              "      <th>2995</th>\n",
              "      <td>I think hoomphree meant while closing the SQ, ...</td>\n",
              "      <td>Negative</td>\n",
              "    </tr>\n",
              "  </tbody>\n",
              "</table>\n",
              "<p>2768 rows × 2 columns</p>\n",
              "</div>"
            ],
            "text/plain": [
              "                                                   text     label\n",
              "0     Season 3 had a great ending, the best so far. ...  Positive\n",
              "1     Yerp. How many of them wanted to wear the boot...  Negative\n",
              "2     Have you reached out to IDEXX? They can usuall...  Negative\n",
              "3     A muzzle? Seriously, I put a muzzle on any inj...  Negative\n",
              "4                                           Whats in it  Negative\n",
              "...                                                 ...       ...\n",
              "2990  Listen, I want it as much as the next but, let...  Positive\n",
              "2991  Bacon, sausage, tomato, cheese and breakfast p...  Negative\n",
              "2993  Medivet helped me learn what I don’t want to g...  Positive\n",
              "2994  This has been a real drain on our clinic as we...  Positive\n",
              "2995  I think hoomphree meant while closing the SQ, ...  Negative\n",
              "\n",
              "[2768 rows x 2 columns]"
            ]
          },
          "metadata": {},
          "execution_count": 210
        }
      ]
    },
    {
      "cell_type": "code",
      "metadata": {
        "colab": {
          "base_uri": "https://localhost:8080/"
        },
        "id": "rzQjwhXGwf_3",
        "outputId": "22e7e3ae-a176-42f1-d9c2-30f6e3416dc5"
      },
      "source": [
        "#Check if there are any null values\n",
        "data = data[['text','label']]\n",
        "data.isnull().sum()"
      ],
      "execution_count": null,
      "outputs": [
        {
          "output_type": "execute_result",
          "data": {
            "text/plain": [
              "text     0\n",
              "label    0\n",
              "dtype: int64"
            ]
          },
          "metadata": {},
          "execution_count": 211
        }
      ]
    },
    {
      "cell_type": "code",
      "metadata": {
        "colab": {
          "base_uri": "https://localhost:8080/",
          "height": 419
        },
        "id": "dTR6SqME9gLr",
        "outputId": "1968d00e-fd5c-4594-da39-571afe9c597e"
      },
      "source": [
        "def cleaning(df, stop_words):\n",
        "\n",
        "    df['text'] = df['text'].apply(lambda x: \n",
        "\n",
        "            ' '.join(x.lower() for x in x.split()))\n",
        "\n",
        "    # Replacing the special characters\n",
        "    df['text'] = df['text'].map(lambda x: re.sub(r'\\W+', '', x))\n",
        "\n",
        "    # Replacing the digits/numbers\n",
        "\n",
        "    df['text'] = df['text'].str.replace('d', ''\n",
        "\n",
        "            )\n",
        "\n",
        "    # Removing stop words\n",
        "\n",
        "    df['text'] = df['text'].apply(lambda x: \n",
        "\n",
        "            ' '.join(x for x in x.split() if x not in stop_words))\n",
        "\n",
        "    # Lemmatization\n",
        "\n",
        "    df['text'] = df['text'].apply(lambda x: \n",
        "\n",
        "            ' '.join([Word(x).lemmatize() for x in x.split()]))\n",
        "\n",
        "    return df\n",
        "\n",
        "stop_words = stopwords.words('english')\n",
        "\n",
        "data = cleaning(data, stop_words)\n",
        "data"
      ],
      "execution_count": null,
      "outputs": [
        {
          "output_type": "execute_result",
          "data": {
            "text/html": [
              "<div>\n",
              "<style scoped>\n",
              "    .dataframe tbody tr th:only-of-type {\n",
              "        vertical-align: middle;\n",
              "    }\n",
              "\n",
              "    .dataframe tbody tr th {\n",
              "        vertical-align: top;\n",
              "    }\n",
              "\n",
              "    .dataframe thead th {\n",
              "        text-align: right;\n",
              "    }\n",
              "</style>\n",
              "<table border=\"1\" class=\"dataframe\">\n",
              "  <thead>\n",
              "    <tr style=\"text-align: right;\">\n",
              "      <th></th>\n",
              "      <th>text</th>\n",
              "      <th>label</th>\n",
              "    </tr>\n",
              "  </thead>\n",
              "  <tbody>\n",
              "    <tr>\n",
              "      <th>0</th>\n",
              "      <td>season3haagreateningthebestsofartheproblemisth...</td>\n",
              "      <td>Positive</td>\n",
              "    </tr>\n",
              "    <tr>\n",
              "      <th>1</th>\n",
              "      <td>yerphowmanyofthemwantetowearthebootyshorts</td>\n",
              "      <td>Negative</td>\n",
              "    </tr>\n",
              "    <tr>\n",
              "      <th>2</th>\n",
              "      <td>haveyoureacheouttoiexxtheycanusuallyprovierefe...</td>\n",
              "      <td>Negative</td>\n",
              "    </tr>\n",
              "    <tr>\n",
              "      <th>3</th>\n",
              "      <td>amuzzleseriouslyiputamuzzleonanyinjurepetevent...</td>\n",
              "      <td>Negative</td>\n",
              "    </tr>\n",
              "    <tr>\n",
              "      <th>4</th>\n",
              "      <td>whatsinit</td>\n",
              "      <td>Negative</td>\n",
              "    </tr>\n",
              "    <tr>\n",
              "      <th>...</th>\n",
              "      <td>...</td>\n",
              "      <td>...</td>\n",
              "    </tr>\n",
              "    <tr>\n",
              "      <th>2990</th>\n",
              "      <td>listeniwantitasmuchasthenextbutletslookatthefa...</td>\n",
              "      <td>Positive</td>\n",
              "    </tr>\n",
              "    <tr>\n",
              "      <th>2991</th>\n",
              "      <td>baconsausagetomatocheeseanbreakfastpatties</td>\n",
              "      <td>Negative</td>\n",
              "    </tr>\n",
              "    <tr>\n",
              "      <th>2993</th>\n",
              "      <td>meivethelpemelearnwhationtwanttogetoutofmyplac...</td>\n",
              "      <td>Positive</td>\n",
              "    </tr>\n",
              "    <tr>\n",
              "      <th>2994</th>\n",
              "      <td>thishasbeenarealrainonourclinicaswellontopofsh...</td>\n",
              "      <td>Positive</td>\n",
              "    </tr>\n",
              "    <tr>\n",
              "      <th>2995</th>\n",
              "      <td>ithinkhoomphreemeantwhileclosingthesqyoutackit...</td>\n",
              "      <td>Negative</td>\n",
              "    </tr>\n",
              "  </tbody>\n",
              "</table>\n",
              "<p>2768 rows × 2 columns</p>\n",
              "</div>"
            ],
            "text/plain": [
              "                                                   text     label\n",
              "0     season3haagreateningthebestsofartheproblemisth...  Positive\n",
              "1            yerphowmanyofthemwantetowearthebootyshorts  Negative\n",
              "2     haveyoureacheouttoiexxtheycanusuallyprovierefe...  Negative\n",
              "3     amuzzleseriouslyiputamuzzleonanyinjurepetevent...  Negative\n",
              "4                                             whatsinit  Negative\n",
              "...                                                 ...       ...\n",
              "2990  listeniwantitasmuchasthenextbutletslookatthefa...  Positive\n",
              "2991         baconsausagetomatocheeseanbreakfastpatties  Negative\n",
              "2993  meivethelpemelearnwhationtwanttogetoutofmyplac...  Positive\n",
              "2994  thishasbeenarealrainonourclinicaswellontopofsh...  Positive\n",
              "2995  ithinkhoomphreemeantwhileclosingthesqyoutackit...  Negative\n",
              "\n",
              "[2768 rows x 2 columns]"
            ]
          },
          "metadata": {},
          "execution_count": 212
        }
      ]
    },
    {
      "cell_type": "code",
      "metadata": {
        "id": "fM0U2gc2_qih"
      },
      "source": [
        "from wordcloud import WordCloud"
      ],
      "execution_count": null,
      "outputs": []
    },
    {
      "cell_type": "code",
      "metadata": {
        "colab": {
          "base_uri": "https://localhost:8080/",
          "height": 198
        },
        "id": "aWwXIE28-HPy",
        "outputId": "6505e6c4-166a-41af-bc7e-a305bd7b9b55"
      },
      "source": [
        "common_words=''\n",
        "for i in data.text:\n",
        "    i = str(i)\n",
        "    tokens = i.split()\n",
        "    common_words += \" \".join(tokens)+\" \"\n",
        "wordcloud = WordCloud().generate(common_words)\n",
        "plt.imshow(wordcloud, interpolation='bilinear')\n",
        "plt.axis(\"off\")\n",
        "plt.show()"
      ],
      "execution_count": null,
      "outputs": [
        {
          "output_type": "display_data",
          "data": {
            "image/png": "[encoded data removed]",
            "text/plain": [
              "<Figure size 432x288 with 1 Axes>"
            ]
          },
          "metadata": {
            "needs_background": "light"
          }
        }
      ]
    },
    {
      "cell_type": "code",
      "metadata": {
        "colab": {
          "base_uri": "https://localhost:8080/",
          "height": 419
        },
        "id": "0ykuzABbApqK",
        "outputId": "7af3e144-2db1-4262-a4ac-7c27ea4290f2"
      },
      "source": [
        "# Encoded the target column\n",
        "lb=LabelEncoder()\n",
        "data['label'] = lb.fit_transform(data['label'])\n",
        "data"
      ],
      "execution_count": null,
      "outputs": [
        {
          "output_type": "execute_result",
          "data": {
            "text/html": [
              "<div>\n",
              "<style scoped>\n",
              "    .dataframe tbody tr th:only-of-type {\n",
              "        vertical-align: middle;\n",
              "    }\n",
              "\n",
              "    .dataframe tbody tr th {\n",
              "        vertical-align: top;\n",
              "    }\n",
              "\n",
              "    .dataframe thead th {\n",
              "        text-align: right;\n",
              "    }\n",
              "</style>\n",
              "<table border=\"1\" class=\"dataframe\">\n",
              "  <thead>\n",
              "    <tr style=\"text-align: right;\">\n",
              "      <th></th>\n",
              "      <th>text</th>\n",
              "      <th>label</th>\n",
              "    </tr>\n",
              "  </thead>\n",
              "  <tbody>\n",
              "    <tr>\n",
              "      <th>0</th>\n",
              "      <td>season3haagreateningthebestsofartheproblemisth...</td>\n",
              "      <td>1</td>\n",
              "    </tr>\n",
              "    <tr>\n",
              "      <th>1</th>\n",
              "      <td>yerphowmanyofthemwantetowearthebootyshorts</td>\n",
              "      <td>0</td>\n",
              "    </tr>\n",
              "    <tr>\n",
              "      <th>2</th>\n",
              "      <td>haveyoureacheouttoiexxtheycanusuallyprovierefe...</td>\n",
              "      <td>0</td>\n",
              "    </tr>\n",
              "    <tr>\n",
              "      <th>3</th>\n",
              "      <td>amuzzleseriouslyiputamuzzleonanyinjurepetevent...</td>\n",
              "      <td>0</td>\n",
              "    </tr>\n",
              "    <tr>\n",
              "      <th>4</th>\n",
              "      <td>whatsinit</td>\n",
              "      <td>0</td>\n",
              "    </tr>\n",
              "    <tr>\n",
              "      <th>...</th>\n",
              "      <td>...</td>\n",
              "      <td>...</td>\n",
              "    </tr>\n",
              "    <tr>\n",
              "      <th>2990</th>\n",
              "      <td>listeniwantitasmuchasthenextbutletslookatthefa...</td>\n",
              "      <td>1</td>\n",
              "    </tr>\n",
              "    <tr>\n",
              "      <th>2991</th>\n",
              "      <td>baconsausagetomatocheeseanbreakfastpatties</td>\n",
              "      <td>0</td>\n",
              "    </tr>\n",
              "    <tr>\n",
              "      <th>2993</th>\n",
              "      <td>meivethelpemelearnwhationtwanttogetoutofmyplac...</td>\n",
              "      <td>1</td>\n",
              "    </tr>\n",
              "    <tr>\n",
              "      <th>2994</th>\n",
              "      <td>thishasbeenarealrainonourclinicaswellontopofsh...</td>\n",
              "      <td>1</td>\n",
              "    </tr>\n",
              "    <tr>\n",
              "      <th>2995</th>\n",
              "      <td>ithinkhoomphreemeantwhileclosingthesqyoutackit...</td>\n",
              "      <td>0</td>\n",
              "    </tr>\n",
              "  </tbody>\n",
              "</table>\n",
              "<p>2768 rows × 2 columns</p>\n",
              "</div>"
            ],
            "text/plain": [
              "                                                   text  label\n",
              "0     season3haagreateningthebestsofartheproblemisth...      1\n",
              "1            yerphowmanyofthemwantetowearthebootyshorts      0\n",
              "2     haveyoureacheouttoiexxtheycanusuallyprovierefe...      0\n",
              "3     amuzzleseriouslyiputamuzzleonanyinjurepetevent...      0\n",
              "4                                             whatsinit      0\n",
              "...                                                 ...    ...\n",
              "2990  listeniwantitasmuchasthenextbutletslookatthefa...      1\n",
              "2991         baconsausagetomatocheeseanbreakfastpatties      0\n",
              "2993  meivethelpemelearnwhationtwanttogetoutofmyplac...      1\n",
              "2994  thishasbeenarealrainonourclinicaswellontopofsh...      1\n",
              "2995  ithinkhoomphreemeantwhileclosingthesqyoutackit...      0\n",
              "\n",
              "[2768 rows x 2 columns]"
            ]
          },
          "metadata": {},
          "execution_count": 215
        }
      ]
    },
    {
      "cell_type": "code",
      "metadata": {
        "colab": {
          "base_uri": "https://localhost:8080/"
        },
        "id": "NG9v8-uIAzBK",
        "outputId": "11b13e6c-a728-44c0-852d-34cc9dfa6e28"
      },
      "source": [
        "tokenizer = Tokenizer(num_words=500, split=' ') \n",
        "tokenizer.fit_on_texts(data['text'].values)\n",
        "X = tokenizer.texts_to_sequences(data['text'].values)\n",
        "X = pad_sequences(X)\n",
        "X"
      ],
      "execution_count": null,
      "outputs": [
        {
          "output_type": "execute_result",
          "data": {
            "text/plain": [
              "array([[ 0,  0,  0, ...,  0,  0, 10],\n",
              "       [ 0,  0,  0, ...,  0,  0, 11],\n",
              "       [ 0,  0,  0, ...,  0,  0, 12],\n",
              "       ...,\n",
              "       [ 0,  0,  0, ...,  0,  0,  0],\n",
              "       [ 0,  0,  0, ...,  0,  0,  0],\n",
              "       [ 0,  0,  0, ...,  0,  0,  0]], dtype=int32)"
            ]
          },
          "metadata": {},
          "execution_count": 216
        }
      ]
    },
    {
      "cell_type": "code",
      "metadata": {
        "id": "2Ynp2EnIIc3E"
      },
      "source": [
        "from tensorflow.keras.layers import Dropout"
      ],
      "execution_count": null,
      "outputs": []
    },
    {
      "cell_type": "code",
      "metadata": {
        "colab": {
          "base_uri": "https://localhost:8080/"
        },
        "id": "omDHV9FvA-HZ",
        "outputId": "3224b29b-c09b-4674-edfb-fde5d1e054cf"
      },
      "source": [
        "model = Sequential()\n",
        "model.add(Embedding(500, 120, input_length = X.shape[1]))\n",
        "model.add(SpatialDropout1D(0.4))\n",
        "model.add(LSTM(176, dropout=0.2, recurrent_dropout=0.2))\n",
        "model.add(Dense(2,activation='softmax'))\n",
        "model.compile(loss = 'categorical_crossentropy', optimizer='adam', metrics = ['accuracy'])\n",
        "print(model.summary())"
      ],
      "execution_count": null,
      "outputs": [
        {
          "output_type": "stream",
          "name": "stdout",
          "text": [
            "Model: \"sequential_8\"\n",
            "_________________________________________________________________\n",
            " Layer (type)                Output Shape              Param #   \n",
            "=================================================================\n",
            " embedding_8 (Embedding)     (None, 17, 120)           60000     \n",
            "                                                                 \n",
            " spatial_dropout1d_8 (Spatia  (None, 17, 120)          0         \n",
            " lDropout1D)                                                     \n",
            "                                                                 \n",
            " lstm_8 (LSTM)               (None, 176)               209088    \n",
            "                                                                 \n",
            " dense_6 (Dense)             (None, 2)                 354       \n",
            "                                                                 \n",
            "=================================================================\n",
            "Total params: 269,442\n",
            "Trainable params: 269,442\n",
            "Non-trainable params: 0\n",
            "_________________________________________________________________\n",
            "None\n"
          ]
        }
      ]
    },
    {
      "cell_type": "code",
      "metadata": {
        "id": "1jWshiazI0o1"
      },
      "source": [
        "#Splitting the data into training and testing\n",
        "y=pd.get_dummies(data['label'])\n",
        "X_train, X_test, y_train, y_test = train_test_split(X,y, test_size = 0.3, random_state = 42)"
      ],
      "execution_count": null,
      "outputs": []
    },
    {
      "cell_type": "code",
      "metadata": {
        "colab": {
          "base_uri": "https://localhost:8080/"
        },
        "id": "1UKa4LoiKTZs",
        "outputId": "6ce5c47e-a4e4-4767-aa76-a14bb5d153b4"
      },
      "source": [
        "batch_size=32\n",
        "model.fit(X_train, y_train, epochs = 5, batch_size=batch_size, verbose = 'auto')"
      ],
      "execution_count": null,
      "outputs": [
        {
          "output_type": "stream",
          "name": "stdout",
          "text": [
            "Epoch 1/5\n",
            "61/61 [==============================] - 7s 73ms/step - loss: 0.6488 - accuracy: 0.6546\n",
            "Epoch 2/5\n",
            "61/61 [==============================] - 4s 73ms/step - loss: 0.6469 - accuracy: 0.6541\n",
            "Epoch 3/5\n",
            "61/61 [==============================] - 4s 72ms/step - loss: 0.6438 - accuracy: 0.6541\n",
            "Epoch 4/5\n",
            "61/61 [==============================] - 4s 72ms/step - loss: 0.6388 - accuracy: 0.6541\n",
            "Epoch 5/5\n",
            "61/61 [==============================] - 4s 74ms/step - loss: 0.6163 - accuracy: 0.6779\n"
          ]
        },
        {
          "output_type": "execute_result",
          "data": {
            "text/plain": [
              "<keras.callbacks.History at 0x7f5e5ed80cd0>"
            ]
          },
          "metadata": {},
          "execution_count": 220
        }
      ]
    },
    {
      "cell_type": "code",
      "metadata": {
        "colab": {
          "base_uri": "https://localhost:8080/"
        },
        "id": "0WDPrjEBKfB-",
        "outputId": "642f136a-3bca-428d-c835-a9c7a93189a9"
      },
      "source": [
        "model.evaluate(X_test,y_test)"
      ],
      "execution_count": null,
      "outputs": [
        {
          "output_type": "stream",
          "name": "stdout",
          "text": [
            "26/26 [==============================] - 1s 10ms/step - loss: 0.6605 - accuracy: 0.6522\n"
          ]
        },
        {
          "output_type": "execute_result",
          "data": {
            "text/plain": [
              "[0.6605145931243896, 0.6522262096405029]"
            ]
          },
          "metadata": {},
          "execution_count": 221
        }
      ]
    }
  ]
}